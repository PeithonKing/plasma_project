{
 "cells": [
  {
   "cell_type": "code",
   "execution_count": 1,
   "metadata": {},
   "outputs": [],
   "source": [
    "# importing other ppl's code\n",
    "import numpy as np\n",
    "import math\n",
    "import matplotlib.pyplot as plt\n",
    "from matplotlib.animation import FuncAnimation\n",
    "from tqdm import tqdm\n",
    "\n",
    "# importing my own code\n",
    "from lib.diffeq import crank_nicolson_solve"
   ]
  },
  {
   "cell_type": "markdown",
   "metadata": {},
   "source": [
    "# Theory\n",
    "\n",
    "We have been told to solve the diffusion equation for the magnetic field in cylindrical coordinates. The equation is given by\n",
    "\n",
    "$$\\frac{\\partial \\mathbf{B}}{\\partial t} = \\nabla \\times (\\mathbf{V} \\times \\mathbf{B}) + \\eta_T \\nabla^2 \\mathbf{B} + ...$$\n",
    "\n",
    "where $\\mathbf{B}$ is the magnetic field, $\\eta_T$ is the magnetic diffusivity, and $\\mathbf{V}$ is the velocity field. The first term on the right-hand side is the diffusion term, and the second term is the advection term.\n",
    "\n",
    "Now, we have been instructed to ignore the $\\nabla \\times (\\mathbf{V} \\times \\mathbf{B})$ term, and the other terms. Thus the equation becomes:\n",
    "\n",
    "$$\\frac{\\partial \\mathbf{B}}{\\partial t} = \\eta_T \\nabla^2 \\mathbf{B}$$\n",
    "\n",
    "Expanding the Laplacian in cylindrical coordinates, we get:\n",
    "\n",
    "$$\\frac{\\partial \\mathbf{B}}{\\partial t} = \\eta_T \\left( \\frac{\\partial^2 \\mathbf{B}}{\\partial r^2} + \\frac{1}{r} \\frac{\\partial \\mathbf{B}}{\\partial r} + \\frac{\\partial^2 \\mathbf{B}}{\\partial z^2} \\right)$$\n",
    "\n",
    "Now, I have been instructed to solve this equation assuming that the magnetic field is constant along the $r$ direction, and that it is a function of $z$ only. Thus for me, the differential equation to solve becomes:\n",
    "\n",
    "$$\\frac{\\partial B}{\\partial t} = \\eta_T \\frac{\\partial^2 B}{\\partial z^2}$$\n",
    "\n",
    "This differential equation turns out to be an elliptic partial differential equation, and solving it is well explored in literature. We will use the crank-nicolson method (popularly used to solve heat equations) to solve this equation. The crank-nicolson method is a finite difference method, and it is **unconditionally stable**. Although that doesn't mean that it is accurate, it is a good starting point for solving partial differential equations."
   ]
  },
  {
   "cell_type": "markdown",
   "metadata": {},
   "source": [
    "# Defining some utility functions and some constants"
   ]
  },
  {
   "cell_type": "code",
   "execution_count": 2,
   "metadata": {},
   "outputs": [],
   "source": [
    "# simulation parameters\n",
    "L = 8     # total z axis length - in some units\n",
    "T = 1     # time length - in some units\n",
    "Nl = 200  # number of spatial steps\n",
    "Nt = 500  # number of time steps\n",
    "\n",
    "# spatial and time grids definition\n",
    "x = np.linspace(0, L, Nl + 1)\n",
    "time = np.linspace(0, T, Nt + 1)\n",
    "\n",
    "def make_gif(x, us, name, labels, skip_frame = 1, till=None, fps=25):\n",
    "    us = us[:, :till:skip_frame, :] if till is not None else us[:, ::skip_frame, :]\n",
    "    max_B = np.max(us)\n",
    "    min_B = np.min(us)\n",
    "\n",
    "    p = tqdm(total=us.shape[1]+1)\n",
    "\n",
    "    fig, ax = plt.subplots()\n",
    "    def update(frame):\n",
    "        p.update(1)\n",
    "        ax.clear()\n",
    "        colours = [\n",
    "            'tab:blue',\n",
    "            'tab:green',\n",
    "            'tab:orange',\n",
    "        ]\n",
    "        \n",
    "        if len(us) == 1:  # a dashed red half-transparent line\n",
    "            ax.plot(x, us[0, 0], \"r--\", label=\"Initial Condition\", alpha=0.4)\n",
    "        # ax.plot(x, us[0, frame], label=labels[0])\n",
    "        # ax.plot(x, us[1, frame], label=labels[1])\n",
    "        for i in range(us.shape[0]):\n",
    "            ax.plot(x, us[i, frame], colours[i], label=labels[i])\n",
    "        plt.ylim(min_B, max_B)\n",
    "        ax.set_title(f\"Magnetic Field Strength vs z Distance at Time Step {frame*skip_frame}\")\n",
    "        ax.set_xlabel('Distance (z)')\n",
    "        ax.set_ylabel('Magnetic Field Strength (B)')\n",
    "        ax.legend(loc='lower right')\n",
    "        ax.grid()\n",
    "\n",
    "    animation = FuncAnimation(fig, update, frames=us.shape[1], interval=int(1000/fps), repeat=False)\n",
    "    animation.save(f\"outputs/asgt1/{name}\", writer='imagemagick')\n",
    "    p.close()"
   ]
  },
  {
   "cell_type": "markdown",
   "metadata": {},
   "source": [
    "# Solutions Demonstration\n",
    "\n",
    "The values of the parameters of simulation are chosen so that the solution is easy to visualize. I have not chosen the values to be realistic, but the code can be easily modified to simulate realistic values. I have not grounded their values in any physical theory, and I have not used any physical constants. Also I have made sure I use \"unit\" as unit for all the quantities, so that the code can be easily modified to use realistic values."
   ]
  },
  {
   "cell_type": "code",
   "execution_count": 3,
   "metadata": {},
   "outputs": [],
   "source": [
    "# u01 = 2*np.cos(13*math.pi*x/L)\n",
    "# u02 = 5*np.cos(31*math.pi*x/L)\n",
    "# u03 = u01 + u02\n",
    "# u1 = crank_nicolson_solve(u01, L, T, Nl, Nt, eta=0.15)\n",
    "# u2 = crank_nicolson_solve(u02, L, T, Nl, Nt, eta=0.15)\n",
    "# u3 = crank_nicolson_solve(u03, L, T, Nl, Nt, eta=0.15)\n",
    "# labels = [\n",
    "#     \"$u_1 = 2\\cos(13\\pi x/L)$\",\n",
    "#     \"$u_2 = 5\\cos(31\\pi x/L)$\",\n",
    "#     \"$u_3 = 2\\cos(13\\pi x/L) + 5\\cos(31\\pi x/L)$\",\n",
    "# ]\n",
    "# make_gif(x, np.array([u1, u2, u3]), \"demo1.gif\", labels, skip_frame=4, fps=20)"
   ]
  },
  {
   "cell_type": "markdown",
   "metadata": {},
   "source": [
    "Showing how the high frequencies even out much faster than the low frequencies.\n",
    "\n",
    "Here we have used 3 initial conditions and compared them:\n",
    "\n",
    "$$u_1 = 2\\cos(13\\pi x/L)$$\n",
    "$$u_2 = 5\\cos(31\\pi x/L)$$\n",
    "$$u_3 = u_1 + u_2$$\n",
    "\n",
    "Here we have 2 frequencies, 13 and 31. We will see that the high frequency (31) will even out much faster than the low frequency (13). These two frequencies have been chosen such that they do not have a common multiple in the range; yet placed very far apart from each other.\n",
    "\n",
    "We also notice that $u_3$ soon becomes close to $u_1$, when the high frequency has evened out. **This tells us that all the diferent frequncies even out independently.**\n",
    "\n",
    "![](outputs/asgt1/demo1.gif)"
   ]
  },
  {
   "cell_type": "code",
   "execution_count": 4,
   "metadata": {},
   "outputs": [],
   "source": [
    "# u0 = 16*np.sin(math.pi*x/L) + 2*np.cos(13*math.pi*x/L)\n",
    "\n",
    "# u = crank_nicolson_solve(u0, 8, T, Nl, Nt, eta=0.7)\n",
    "# labels = [\n",
    "#     \"$u = 16\\cos(\\pi x/L) + 2\\cos(13\\pi x/L)$\",\n",
    "# ]\n",
    "# # make_gif(x, np.array([u,]), \"demo1.gif\", labels, skip_frame=1, till=200, fps=24)\n",
    "# make_gif(x, np.array([u,]), \"demo2.gif\", labels, skip_frame=10, fps=24)"
   ]
  },
  {
   "cell_type": "markdown",
   "metadata": {},
   "source": [
    "This is another similar simulation with a single initial condition.\n",
    "<!-- x*L - x**2 + 5*np.cos(13*math.pi*x/L) -->\n",
    "$$u = 16\\cos(\\pi x/L) + 2\\cos(13\\pi x/L)$$\n",
    "\n",
    "Here also we observe similar resuls.\n",
    "\n",
    "![](outputs/asgt1/demo2.gif)"
   ]
  },
  {
   "cell_type": "markdown",
   "metadata": {},
   "source": [
    "Next let us consider the initial condition where we have a single low frequency feature:\n",
    "\n",
    "$$u = e^c\\sin(\\pi x/L)$$\n",
    "\n",
    "This is a simple sin curve. We will need to increase the decay rate to see the decrease in this low frequency freature. Then we will take the middle point in the length (z) where the amplitude is maximum. Finally we would plot a graph of the evolution of the amplitude of the magnetic field at that point. We expect to see an exponential decay. Finally we would try to plot it on a log scale.\n",
    "\n",
    "The analytical solution of the differential equation is of the form:\n",
    "\n",
    "$$u(x, t) = e^c \\sin(\\pi x/L) e^{\\frac{-\\pi^2 \\eta_T}{L^2} t}$$\n",
    "\n",
    "now, converting this to log scale, we get:\n",
    "\n",
    "$$\\log(u(x, t)) = \\log(\\sin(\\pi x/L)) - \\frac{\\pi^2 \\eta_T}{L^2} t$$\n",
    "\n",
    "Now, here we are taking the x to be constant, hence the first term becomes constant. Moreover, at time t=0, $u(x, 0) = e^c \\sin(\\pi x/L)$. So, at the midpoint, $\\sin(\\pi x/L) = e^c$. Hence the equation becomes:\n",
    "\n",
    "$$\\log(u(x, t)) = c - \\frac{\\pi^2 \\eta_T}{L^2} t$$\n",
    "\n",
    "now, if we set $L = \\pi$, then the slope of the line becomes $-\\eta_T$. Hence, the slope of the line in the log scale plot should be $-\\eta_T$.\n"
   ]
  },
  {
   "cell_type": "code",
   "execution_count": 7,
   "metadata": {},
   "outputs": [
    {
     "name": "stdout",
     "output_type": "stream",
     "text": [
      "alpha = 1.4328979206268908\n",
      "expected slope = -2.0000\n",
      "calculated slope = -2.8282\n"
     ]
    },
    {
     "data": {
      "image/png": "[encoded data removed]",
      "text/plain": [
       "<Figure size 640x480 with 1 Axes>"
      ]
     },
     "metadata": {},
     "output_type": "display_data"
    }
   ],
   "source": [
    "# simulation parameters\n",
    "L = np.pi     # total z axis length - in some units\n",
    "T = 0.1     # time length - in some units\n",
    "Nl = 100  # number of spatial steps\n",
    "Nt = 100  # number of time steps\n",
    "eta = 2\n",
    "n = 1\n",
    "c = 5\n",
    "\n",
    "# spatial and time grids definition\n",
    "x = np.linspace(0, L, Nl + 1)\n",
    "time = np.linspace(0, T, Nt + 1)\n",
    "\n",
    "u0 = (np.e**c)*np.sin(n*math.pi*x/L)\n",
    "\n",
    "u = crank_nicolson_solve(u0, L, T, Nl, Nt, eta=eta)\n",
    "print(f\"expected slope = {-((math.pi*n)**2)*eta/L**2:.4f}\")\n",
    "# print(f\"expected slope = {-eta/L**2}\")\n",
    "\n",
    "x_ = time\n",
    "y_ = np.log(u[:, 50])\n",
    "m, c = np.polyfit(x_, y_, 1)  # m is the slope and c is the y-intercept\n",
    "print(f\"calculated slope = {m:.4f}\")\n",
    "plt.plot(x_, y_, \"r.\", label=\"Initial Condition\")\n",
    "plt.plot(x_, m*x_ + c, \"b-\", label=\"Best Fit Line\")\n",
    "plt.xlabel(\"Time (t)\")\n",
    "plt.ylabel(\"log(B)\")\n",
    "plt.text(0.2, 0.2, f\"$-\\eta_T = {-eta:2f}$\\nslope = {m:.4f} units\\nintercept = {c:.2f} units\", fontsize=12, ha='center', va='center', transform=plt.gca().transAxes)\n",
    "plt.legend()\n",
    "plt.grid()\n",
    "plt.savefig(\"outputs/asgt1/demo3.png\")"
   ]
  },
  {
   "cell_type": "markdown",
   "metadata": {},
   "source": [
    "![](outputs/asgt1/demo3.png)\n",
    "\n",
    "So, we can clearly see that the slope of the line is very close to $-\\eta_T$ as expected. Also, the intercept of the line is $c$, where $e^c$ is the initial amplitude of the magnetic field at the midpoint. Hence, we can see that the simulation is working as expected."
   ]
  }
 ],
 "metadata": {
  "kernelspec": {
   "display_name": ".plasma",
   "language": "python",
   "name": "python3"
  },
  "language_info": {
   "codemirror_mode": {
    "name": "ipython",
    "version": 3
   },
   "file_extension": ".py",
   "mimetype": "text/x-python",
   "name": "python",
   "nbconvert_exporter": "python",
   "pygments_lexer": "ipython3",
   "version": "3.10.12"
  }
 },
 "nbformat": 4,
 "nbformat_minor": 2
}
