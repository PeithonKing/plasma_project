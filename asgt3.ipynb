{
 "cells": [
  {
   "cell_type": "markdown",
   "metadata": {},
   "source": [
    "# Task 3\n",
    "\n",
    "Aritra Mukhopadhyay\n",
    "\n",
    "Roll: 2011030"
   ]
  },
  {
   "cell_type": "markdown",
   "metadata": {},
   "source": [
    "## Asbstract\n",
    "Galactic mean-field dynamos play a crucial role in understanding the evolution of galaxies and the generation of magnetic fields. In this study, we investigate the behavior of these dynamos by solving the alpha-omega dynamo equations numerically. Specifically, we explore the sensitivity of the solution to the initial seed field, building on our previous results that demonstrated the independent operation of each term in the equations.\n",
    "\n",
    "We employ the Crank-Nicolson method, a robust and unconditionally stable numerical technique, to solve the coupled double differential equations. Our results show that despite varying initial seed fields, the solution converges to the same outcome over time. This convergence suggests that the alpha-omega dynamo is remarkably robust against variations in the initial conditions.\n",
    "\n",
    "The implications of this finding are far-reaching, as it implies that the dynamo's behavior is largely independent of the initial seed field. This could simplify models and improve predictions in astrophysical contexts. Our study provides new insights into the workings of galactic mean-field dynamos, shedding light on their ability to generate magnetic fields and shape the evolution of galaxies."
   ]
  },
  {
   "cell_type": "markdown",
   "metadata": {},
   "source": [
    "## Introduction\n",
    "\n",
    "Galactic magnetic fields are a ubiquitous and fascinating phenomenon that permeate the cosmos, playing a vital role in shaping the structure, dynamics, and evolution of galaxies. These fields are not just passive byproducts of galaxy formation; instead, they actively influence various astrophysical processes, from the birth and death of stars to the propagation of cosmic rays. The intricate interplay between magnetic fields and the surrounding environment is crucial for understanding the complex tapestry of galaxy evolution.\n",
    "\n",
    "Large-scale magnetic fields, in particular, are a fascinating aspect of galactic magnetic fields. These expansive fields stretch across thousands of light-years within galaxies, exhibiting remarkable coherence and organization. By studying these large-scale structures, we can gain insights into the mechanisms governing magnetic field generation, maintenance, and their impact on galactic processes."
   ]
  },
  {
   "cell_type": "markdown",
   "metadata": {},
   "source": [
    "### Background on Galactic Dynamo Theory\n",
    "\n",
    "Galactic dynamo theory provides a theoretical framework for understanding the generation and maintenance of magnetic fields in galaxies. This theory posits that magnetic fields are sustained by the complex interplay between magnetized plasmas, fluid motions, and electromagnetic forces. The galactic dynamo process is thought to be responsible for the amplification of magnetic fields in galaxies, with the large-scale dynamo mechanism being a crucial component.\n",
    "\n",
    "The alpha-omega dynamo equations form the backbone of galactic dynamo theory, providing a mathematical framework for understanding the evolution of magnetic fields. These equations describe the interplay between the alpha-effect, which generates poloidal magnetic field from toroidal field, and the omega-effect, which generates toroidal field from poloidal field. By numerically solving these equations, researchers can gain insights into the behavior of galactic dynamos and their role in shaping galaxy evolution."
   ]
  },
  {
   "cell_type": "markdown",
   "metadata": {},
   "source": [
    "### The Diffusion Equation\n",
    "\n",
    "In a previous task, we explored the diffusion equation governing the evolution of magnetic fields in galaxies. The original equation read:\n",
    "\n",
    "$$\\frac{\\partial \\mathbf{B}}{\\partial t} = \\nabla \\times (\\mathbf{V} \\times \\mathbf{B}) + \\eta_T \\nabla^2 \\mathbf{B} + ...$$\n",
    "\n",
    "By neglecting the advection term and other contributions, we simplified the equation to:\n",
    "\n",
    "$$\\frac{\\partial \\mathbf{B}}{\\partial t} = \\eta_T \\nabla^2 \\mathbf{B}$$\n",
    "\n",
    "In cylindrical coordinates, this became:\n",
    "\n",
    "$$\\frac{\\partial \\mathbf{B}}{\\partial t} = \\eta_T \\left( \\frac{\\partial^2 \\mathbf{B}}{\\partial r^2} + \\frac{1}{r} \\frac{\\partial \\mathbf{B}}{\\partial r} + \\frac{\\partial^2 \\mathbf{B}}{\\partial z^2} \\right)$$\n",
    "\n",
    "Assuming the magnetic field is constant along the radial direction and only varies with $z$, we further simplified the equation to:\n",
    "\n",
    "$$\\frac{\\partial B}{\\partial t} = \\eta_T \\frac{\\partial^2 B}{\\partial z^2}$$\n",
    "\n",
    "This one-dimensional diffusion equation was then solved to understand the evolution of magnetic fields in galaxies. Although this task focuses on a different aspect, it's essential to acknowledge the foundation laid by this previous work."
   ]
  },
  {
   "cell_type": "markdown",
   "metadata": {},
   "source": [
    "### The $\\alpha-\\Omega$ Dynamo Equations\n",
    "\n",
    "We were required to solve the mean field $\\alpha-\\Omega$ dynamo equations. Specifically, we needed to solve these equations in varying $z$ and $t$, while keeping $r$ constant.\n",
    " \n",
    "The two equations are:\n",
    "$$\\frac{\\partial B_r}{\\partial t} = - \\frac{\\partial}{\\partial z} (\\alpha(z) B_\\phi) + \\eta_T \\frac{\\partial^2 B_r}{\\partial z^2}$$\n",
    "$$\\frac{\\partial B_\\phi}{\\partial t} = -q\\Omega B_r + \\eta_T \\frac{\\partial^2 B_\\phi}{\\partial z^2}$$\n",
    " \n",
    "Here, $\\alpha(z)$ is a function of $z$, given by $\\alpha(z) = \\alpha_0 \\sin(\\pi z/h)$, where $\\alpha_0$ and $h$ are constants. Additionally, $q\\Omega$ and $\\eta_T$ are also constants in time.\n",
    " \n",
    "To solve these equations, we need to find the temporal and spatial evolution of $B_r$ and $B_\\phi$, which represent the radial and azimuthal components of the magnetic field, respectively. The $\\alpha-\\Omega$ dynamo is a simplified model that describes the generation of magnetic fields in astrophysical objects, such as stars and galaxies.\n",
    " \n",
    "One of the key predictions of this theory is that, regardless of the initial seed field we start with, given sufficient time, the solution converges to the same solution. Furthermore, the exponential growth rate $\\gamma$ also converges to the same value, which is a characteristic feature of the dynamo process. This convergence property makes the $\\alpha-\\Omega$ dynamo a powerful tool for understanding the generation of magnetic fields in various astrophysical contexts.\n",
    "\n",
    "Here I am supposed to solve the above equations in varying $z$ and $t$, keeping $r$ constant. Thus the $\\alpha(z)=\\alpha_0\\sin(\\pi z/h)$, $q\\Omega$ and $\\eta_T$ are constants in time.\n",
    "\n",
    "We calculate the $D$ value from the parameters like this:\n",
    "\n",
    "$$D = -\\frac{\\alpha_0q\\Omega h^3}{\\eta_T^2}$$\n",
    "\n",
    "In the experiment we have taken $\\alpha_0 = 1$, $q = -1$, $h = 1$ and $\\eta_T = 1$. Thus $D = \\Omega$."
   ]
  },
  {
   "cell_type": "markdown",
   "metadata": {},
   "source": [
    "## Methods\n",
    "\n",
    "We plan to solve these two quantities $B_r$ and $B_\\phi$ as two matrices. Where each row of the matrix represents the $B$ values over the whole space at some time step and each column represents the $B$ values at some point in space over the simulation time.\n",
    "\n",
    "Thus let us assume $U \\rightarrow B_r$ and $V \\rightarrow B_\\phi$. Thus the equations become where $U$ and $V$ are matrices, and $U_{i,j}$ represents the $B_r$ value at $i$th point in space at $j$th time step and similarly for $V$.\n",
    "\n",
    "$$\\frac{\\partial U}{\\partial t} = - \\frac{\\partial}{\\partial z} (\\alpha(z) V) + \\eta_T \\frac{\\partial^2 U}{\\partial z^2}$$\n",
    "$$\\frac{\\partial V}{\\partial t} = -q\\Omega U + \\eta_T \\frac{\\partial^2 V}{\\partial z^2}$$\n",
    "\n",
    "### Discretisation Scheme:\n",
    "\n",
    "$$\\frac{\\partial U}{\\partial x} = \\frac{U_{i, j-1} - U_{i-1, j-1}}{\\Delta x}$$\n",
    "$$\\frac{\\partial^2 U}{\\partial x^2} = \\frac{1}{2\\Delta x^2} \\left[ (U_{i-1, j-1} + U_{i+1, j-1} - 2U_{i, j-1}) + (U_{i-1, j} + U_{i+1, j} - 2U_{i, j}) \\right]$$\n",
    "\n",
    "In the double difference term, we take the average of the two time steps.\n",
    "\n",
    "Thus putting these in the equations:\n",
    "\n",
    "$$  \\frac{U_{i,j} - U_{i,j-1}}{\\Delta t} = -\\alpha(z) \\frac{V_{i,j-1} - V_{i-1,j-1}}{\\Delta z} + \\frac{\\eta_T}{2\\Delta z^2} \\left[ (U_{i-1,j-1} + U_{i+1,j-1} - 2U_{i,j-1}) + (U_{i-1,j} + U_{i+1,j} - 2U_{i,j}) \\right] $$\n",
    "\n",
    "\n",
    "$$  \\frac{V_{i,j} - V_{i,j-1}}{\\Delta t} = -q\\Omega U_{i,j} + \\frac{\\eta_T}{2\\Delta z^2} \\left[ (V_{i-1,j-1} + V_{i+1,j-1} - 2V_{i,j-1}) + (V_{i-1,j} + V_{i+1,j} - 2V_{i,j}) \\right] $$\n",
    "\n",
    "now moving all the $j$ terms to the left side and $j-1$ terms to the right side:\n",
    "\n",
    "$$U_{i,j} (\\frac{1}{\\Delta t} + \\frac{\\eta_T}{2\\Delta z^2}) - (U_{i-1,j} + U_{i+1,j}) \\frac{\\eta_T}{2\\Delta z^2} = U_{i,j-1} (\\frac{1}{\\Delta t} - \\frac{1}{\\Delta z^2}) - \\alpha(z) \\frac{V_{i,j-1} - V_{i-1,j-1}}{\\Delta z} + \\frac{\\eta_T}{2\\Delta z^2} (U_{i-1,j-1} + U_{i+1,j-1})$$\n",
    "\n",
    "-- (1)\n",
    "\n",
    "$$V_{i,j} (\\frac{1}{\\Delta t} + \\frac{\\eta_T}{2\\Delta z^2}) - (V_{i-1,j} + V_{i+1,j}) \\frac{\\eta_T}{2\\Delta z^2} = V_{i,j-1} (\\frac{1}{\\Delta t} - \\frac{1}{\\Delta z^2}) - q\\Omega U_{i,j} + \\frac{\\eta_T}{2\\Delta z^2} (V_{i-1,j-1} + V_{i+1,j-1})$$\n",
    "\n",
    "-- (2)\n",
    "\n",
    "\n",
    "\n",
    "Here to find $U_{i, j}$ we need all the values of $U$ and $V$ at time step $j-1$ (which is not a problem) along with $U_{i-1, j}$ and $V_{i-1, j}$ at time step $j$ (which is a problem). We don't have these values yet. Thus we need to construct a set of linear equations to solve this problem. Similar thing is applied to $V$ too.\n",
    "\n",
    "Now, let us say:\n",
    "\n",
    "- $a = (\\frac{1}{\\Delta t} + \\frac{1}{2\\Delta z^2})$\n",
    "- $b = \\frac{1}{2\\Delta z^2}$\n",
    "- $c^U_i = U_{i,j-1} (\\frac{1}{\\Delta t} - \\frac{1}{\\Delta z^2}) - \\alpha(z) \\frac{V_{i,j-1} - V_{i-1,j-1}}{\\Delta z} + \\frac{\\eta_T}{2\\Delta z^2} (U_{i-1,j-1} + U_{i+1,j-1})$\n",
    "- $c^V_i = V_{i,j-1} (\\frac{1}{\\Delta t} - \\frac{1}{\\Delta z^2}) - q\\Omega U_{i,j} + \\frac{\\eta_T}{2\\Delta z^2} (V_{i-1,j-1} + V_{i+1,j-1})$\n",
    "\n",
    "Note that $c^U_i$ and $c^V_i$ are the whole left sides of eqn 1 and 2 (which are completely known). Thus the equations become:\n",
    "\n",
    "$$ -b U_{i-1,j} + aU_{i,j} - bU_{i+1,j} = c^U_i $$\n",
    "$$ -b V_{i-1,j} + aV_{i,j} - bV_{i+1,j} = c^V_i $$\n",
    "\n",
    "Where $U_{i-1,j}$, $U_{i, j}$, $U_{i+1, j}$, $V_{i-1,j}$, $V_{i,j}$ and $V_{i+1,j}$ are the unknowns. Thus we can make a matrix linear equation like $Ax=B$ where we need to get $X$ as the solution. And A and B are of the form:\n",
    "\n",
    "$$ A = \\begin{bmatrix}\n",
    " a & -b &  0 &  0 & 0 \\\\\n",
    "-b &  a & -b &  0 & 0 \\\\\n",
    " 0 & -b &  a & -b & 0 \\\\\n",
    " 0 &  0 & -b &  a & -b \\\\\n",
    " 0 &  0 &  0 & -b &  a \\\\\n",
    "\\end{bmatrix} $$\n",
    "\n",
    "$$ B = \\begin{bmatrix}\n",
    "c_1 \\\\\n",
    "c_2 \\\\\n",
    "c_3 \\\\\n",
    "c_4 \\\\\n",
    "c_5 \\\\\n",
    "\\end{bmatrix} $$\n",
    "\n",
    "Thus for every time step we need to solve this matrix equation to get the values of $U$ and $V$ at that time step Note that Matrix $A$ doesn't have a time dependent component, only $B$ has. Thus we will make the matrix $A$ only once and then solve the equation for every time step by finding the $B$ matrix for that time step."
   ]
  },
  {
   "cell_type": "code",
   "execution_count": null,
   "metadata": {},
   "outputs": [],
   "source": [
    "import matplotlib.pyplot as plt\n",
    "import numpy as np\n",
    "from lib.diffeq import solve, Gif\n",
    "from tqdm import tqdm, trange\n",
    "gif = Gif(  # default values\n",
    "    labels=[\"$B_r$\", \"$B_\\phi$\"],\n",
    "    skip_frame = 32,\n",
    "    till = None,  # end\n",
    "    fps = 24,\n",
    "    fix_limits = False,\n",
    "    save_dir = \"outputs/asgt3\"\n",
    ")"
   ]
  },
  {
   "cell_type": "markdown",
   "metadata": {},
   "source": [
    "**Note:** These components have been taken from the previous task.\n",
    "- function `solve()`: takes initial $U$ and $V$ matrices and solves the equations for all time steps.\n",
    "- class `Gif`: Helps to create an animated GIF of magnetic field strength vs z distance over time.\n",
    "\n",
    "[Click here](./lib/diffeq.py) to view these codes."
   ]
  },
  {
   "cell_type": "markdown",
   "metadata": {},
   "source": [
    "### Experiment\n",
    "Here we are taking a more or less stable dynamo system, $\\Omega = 8.2$ (actual stable dynamo was calculated to be at $\\Omega = 8.2124$). Our task is to see how the system behaves with different initial conditions (seed fields). We will take 2 different seed fields and see how the system evolves over time.\n",
    "\n",
    "- **Sinusoidal seed field:** This will have only a single a mode and immediately converge to the eigenvalue $\\gamma$. This acts as a control solution to see if the system is working properly.\n",
    "- **Random seed:** This is our actual test case. We will take a random seed field and see how the system evolves over time. Both the $B_r$ and $B_\\phi$ components will be randomly distributed between -0.5 and 0.5.\n",
    "\n",
    "**The solution to the random field should converge to the same solution as the sinusoidal seed field provided we run the simulation for a sufficient amount of time.**"
   ]
  },
  {
   "cell_type": "code",
   "execution_count": null,
   "metadata": {},
   "outputs": [],
   "source": [
    "# DEFINING INITIAL CONDITIONS AND CONSTANTS\n",
    "T = 32\n",
    "dT = 0.01\n",
    "NT = int(T/dT)\n",
    "\n",
    "L = 2\n",
    "dL = 0.01\n",
    "NL = int(L/dL)\n",
    "\n",
    "U = np.zeros((NT, NL))  # Initialize U matrix\n",
    "V = np.zeros((NT, NL))  # Initialize V matrix\n",
    "\n",
    "omega = 8.2\n",
    "alpha0 = 1\n",
    "q = -1\n",
    "eta = 1"
   ]
  },
  {
   "cell_type": "code",
   "execution_count": null,
   "metadata": {},
   "outputs": [],
   "source": [
    "# RANDOM INITIAL CONDITIONS\n",
    "np.random.seed(2)\n",
    "U[0, :] = np.random.rand(NL) - 0.5\n",
    "V[0, :] = np.random.rand(NL) - 0.5\n",
    "\n",
    "U1, V1 = solve(U, V, dT, dL, alpha0, omega, q, eta)\n",
    "\n",
    "# gif.draw(\n",
    "#     np.linspace(-L/2, L/2, NL),\n",
    "#     np.array([U1, V1]),\n",
    "#     \"dynamo1.gif\",\n",
    "# )"
   ]
  },
  {
   "cell_type": "code",
   "execution_count": null,
   "metadata": {},
   "outputs": [],
   "source": [
    "# SINUSOIDAL INITIAL CONDITIONS\n",
    "U[0, :] = -np.cos(np.linspace(-L/2, L/2, NL)*np.pi/2)/37.692124\n",
    "V[0, :] = np.cos(np.linspace(-L/2, L/2, NL)*np.pi/2)/37.692124\n",
    "\n",
    "U2, V2 = solve(U, V, dT, dL, alpha0, omega, q, eta)\n",
    "\n",
    "# gif.draw(\n",
    "#     np.linspace(-L/2, L/2, NL),\n",
    "#     np.array([U2, V2]),\n",
    "#     \"dynamo2.gif\",\n",
    "# )"
   ]
  },
  {
   "cell_type": "code",
   "execution_count": null,
   "metadata": {},
   "outputs": [],
   "source": [
    "# PLOTTING LOG MAGNETIC FIELD STRENGTH AT CENTER OF THE DYNAMO\n",
    "i = int(L/(2*dL))\n",
    "plt.plot(np.log(np.abs(U1[:, i])), label=\"$B_r$ (random seed field)\", color=\"blue\")\n",
    "plt.plot(np.log(np.abs(U2[:, i])), label=\"$B_r$ (sin seed field)\", linestyle=\"--\", color=\"orange\")\n",
    "plt.plot(np.log(np.abs(V1[:, i])), label=\"$B_\\phi$ (random seed field)\", color=\"green\")\n",
    "plt.plot(np.log(np.abs(V2[:, i])), label=\"$B_\\phi$ (sin seed field)\", linestyle=\"--\", color=\"red\")\n",
    "\n",
    "plt.grid()\n",
    "plt.xlabel(\"Time Step\")\n",
    "plt.ylabel(\"Log Magnetic Field Strength\")\n",
    "plt.title(\"Log Magnetic Field Strength vs Time Step at Center of the Dynamo\")\n",
    "plt.legend()\n",
    "plt.ylim(-5, 1)\n",
    "plt.savefig(f\"outputs/asgt3/dynamo3.png\")"
   ]
  },
  {
   "cell_type": "code",
   "execution_count": null,
   "metadata": {},
   "outputs": [],
   "source": [
    "# MAKING A GIF OF THE MAGNETIC FIELD STRENGTH VS Z DISTANCE AT VARIOUS TIME STEPS\n",
    "def myupdate(frame, ax, x, us, p, labels, fix_limits, skip_frame):\n",
    "    colours = ['tab:blue', 'tab:orange', 'tab:green', 'tab:red']\n",
    "    labels = [\"$B_r$ (random)\", \"$B_r$ (sin)\", \"$B_\\phi$ (random)\", \"$B_\\phi$ (sin)\"]\n",
    "    p.update(1)\n",
    "    ax.clear()\n",
    "\n",
    "    ax.plot(x, us[0, frame], colours[0], label=labels[0])\n",
    "    ax.plot(x, us[1, frame], colours[1], label=labels[1])\n",
    "    ax.plot(x, us[2, frame], colours[2], label=labels[2])\n",
    "    ax.plot(x, us[3, frame], colours[3], label=labels[3])\n",
    "    \n",
    "    ax.set_title(f\"Magnetic Field Strength vs z Distance at Time Step {frame*skip_frame}\")\n",
    "    ax.set_xlabel('Distance (z)')\n",
    "    ax.set_ylabel('Magnetic Field Strength (B)')\n",
    "    ax.legend(loc='lower right')\n",
    "    ax.grid()\n",
    "\n",
    "gif.draw(\n",
    "    np.linspace(-L/2, L/2, NL),\n",
    "    np.array([U1, U2, V1, V2]),\n",
    "    \"dynamo4.gif\",\n",
    "    myupdate,\n",
    "    skip_frame=8,\n",
    "    till=1500  # terminate animation early\n",
    ")"
   ]
  },
  {
   "cell_type": "markdown",
   "metadata": {},
   "source": [
    "Here We can see how with time, the two fields converge to the same solution. This was the expected result and the simulation was successful.\n",
    "\n",
    "![dynamo_gif.gif](outputs/asgt3/dynamo4.gif)\n",
    "\n",
    "For completelness we also plotted the log of the magnetic field strength (midpoint; $z=0$) vs time for both the seed fields. We can see that the two fields converge to the same solution with time.\n",
    "\n",
    "![dynamo.png](outputs/asgt3/dynamo3.png)"
   ]
  },
  {
   "cell_type": "markdown",
   "metadata": {},
   "source": [
    "## Conclusions\n",
    "\n",
    "Galactic dynamo theory is a fundamental framework for understanding the role of magnetic fields in shaping the structure and evolution of astrophysical objects. Our study demonstrates the ability of the $\\alpha-\\Omega$ dynamo model to generate and sustain magnetic fields in these objects, which has important implications for our understanding of the complex dynamics involved. Our simulation of the mean field $\\alpha-\\Omega$ dynamo equations yielded the following key results:\n",
    "- The magnetic field strength increased exponentially with time, eventually saturating at a constant value.\n",
    "- The exponential growth rate $\\gamma$ (slope of the log(B) vs time curve) converged to a single value, characteristic of the dynamo process.\n",
    "- The solution converged to a unique attractor state, regardless of the initial seed field.\n",
    "\n",
    "### Limitations of the Study\n",
    "\n",
    "The study is not without its limitations. One of the key assumptions made was keeping certain parameters constant, such as the time step and spatial step, which may have affected the accuracy of the results.\n",
    "\n",
    "In particular, the rate at which high-frequency features dissipated was found to depend on the time step. Specifically, when the time step was varied from $0.01$ to $0.001$, the high-frequency features disappeared much more rapidly. However, further reducing the time step to $0.0001$ did not yield significant changes.\n",
    "\n",
    "Additionally, the optimum value of the critical dynamo number ($D_c$) was found to be sensitive to the spatial step size. When the spatial step was reduced from $0.01$ to $0.002$, the critical dynamo number changed from $8.2117$ to $8.0962$. Furthermore, subsequent reductions in the spatial step from $0.002$ to $0.0004$ (both times reduced by a factor of 5) resulted in a relatively stable value of the critical dynamo number, with a value of $8.0733$.\n",
    "\n",
    "These findings suggest that while the initial simulation results appeared visually acceptable with a time step of $0.01$ and spatial step of $0.01$, reducing the time step and spatial step can lead to more accurate solutions, which in turn can provide better estimates of other constants when calculated.\n",
    "\n",
    "### Future Extensions\n",
    "\n",
    "Possible extensions of this work could include:\n",
    "- Implementing more advanced Runge-Kutta algorithms to improve the accuracy and stability of the numerical solution.\n",
    "- Employing Dirichlet boundary conditions and implementing ghost zones to better capture the dynamics at the boundaries. This would require a departure from the Neumann boundary conditions used in this study, which do not necessitate the use of ghost zones.\n",
    "- Refining the spatial and temporal discretization by solving with finer steps in both space and time. This could potentially lead to more accurate estimates of the critical dynamo number and other relevant quantities."
   ]
  },
  {
   "cell_type": "markdown",
   "metadata": {},
   "source": [
    "# Bibliography\n",
    "- Shukurov A., Subramanian K., 2021, Astrophysical Magnetic Fields: From Galaxies to the Early Universe (Cambridge University Press)\n",
    "\n",
    "# Acknowledgement\n",
    "\n",
    "I would like to express my sincere gratitude to The Computational Physics course (P452) by Prof. Subhasis Basak at SPS, NISER, which has been instrumental in providing the necessary background and skills to tackle this problem. The course's comprehensive coverage of numerical methods for solving differential equations, including RK4, Euler methods, and Crank-Nicolson, proved to be invaluable in my ability to successfully simulate the dynamo effect.\n",
    "\n",
    "I am also deeply thankful to Prof. Luke, whose guidance and expertise were instrumental in helping me understand the underlying theory and complete my simulation within the allotted timeframe. His insightful feedback and encouragement played a significant role in shaping my project into its final form.\n",
    "\n",
    "I am truly grateful for the opportunity to have learned from these esteemed professors, and I acknowledge the profound impact their teaching has had on my academic journey."
   ]
  }
 ],
 "metadata": {
  "kernelspec": {
   "display_name": ".plasma",
   "language": "python",
   "name": "python3"
  },
  "language_info": {
   "codemirror_mode": {
    "name": "ipython",
    "version": 3
   },
   "file_extension": ".py",
   "mimetype": "text/x-python",
   "name": "python",
   "nbconvert_exporter": "python",
   "pygments_lexer": "ipython3",
   "version": "3.10.12"
  }
 },
 "nbformat": 4,
 "nbformat_minor": 2
}
