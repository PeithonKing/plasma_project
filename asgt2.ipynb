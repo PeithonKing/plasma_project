{
 "cells": [
  {
   "cell_type": "markdown",
   "metadata": {},
   "source": [
    "# Task 2"
   ]
  },
  {
   "cell_type": "code",
   "execution_count": null,
   "metadata": {},
   "outputs": [],
   "source": [
    "# importing important modules\n",
    "import numpy as np\n",
    "import matplotlib.pyplot as plt\n",
    "from tqdm import tqdm, trange\n",
    "from matplotlib.animation import FuncAnimation\n",
    "# copy\n",
    "from copy import deepcopy as copy\n",
    "\n",
    "def make_gif(x, us, name, labels, skip_frame = 1, till=None, fps=25):\n",
    "    us = us[:, :till:skip_frame, :] if till is not None else us[:, ::skip_frame, :]\n",
    "    max_B = np.max(us)\n",
    "    min_B = np.min(us)\n",
    "\n",
    "    p = tqdm(total=us.shape[1]+1)\n",
    "\n",
    "    fig, ax = plt.subplots()\n",
    "    def update(frame):\n",
    "        p.update(1)\n",
    "        ax.clear()\n",
    "        colours = [\n",
    "            'tab:blue',\n",
    "            'tab:orange',\n",
    "        ]\n",
    "\n",
    "        ax.plot(x, us[0, 0], colours[0], label=f\"Initial {labels[0]}\", alpha=0.4, linestyle=\"--\")\n",
    "        ax.plot(x, us[0, frame], colours[0], label=labels[0])\n",
    "        \n",
    "        ax.plot(x, us[1, 0], colours[1], label=f\"Initial {labels[1]}\", alpha=0.4, linestyle=\"--\")\n",
    "        ax.plot(x, us[1, frame], colours[1], label=labels[1])\n",
    "        plt.ylim(min_B, max_B)\n",
    "        ax.set_title(f\"Magnetic Field Strength vs z Distance at Time Step {frame*skip_frame}\")\n",
    "        ax.set_xlabel('Distance (z)')\n",
    "        ax.set_ylabel('Magnetic Field Strength (B)')\n",
    "        ax.legend(loc='lower right')\n",
    "        ax.grid()\n",
    "\n",
    "    animation = FuncAnimation(fig, update, frames=us.shape[1], interval=int(1000/fps), repeat=False)\n",
    "    animation.save(f\"outputs/asgt2/{name}\", writer='imagemagick')\n",
    "    p.close()"
   ]
  },
  {
   "cell_type": "markdown",
   "metadata": {},
   "source": [
    "## Equations to solve:\n",
    "\n",
    "$$ \\frac{\\partial B_r}{\\partial t} = - \\frac{\\partial}{\\partial z} (\\alpha B_\\phi) + \\frac{\\partial^2 B_r}{\\partial z^2} $$\n",
    "\n",
    "$$ \\frac{\\partial B_\\phi}{\\partial t} = DS B_r + \\frac{\\partial^2 B_\\phi}{\\partial z^2} $$\n",
    "\n",
    "Here I am supposed to solve the above equations in varying $z$ and $t$, keeping $r$ constant. Thus the $\\alpha$, $D$ and $S$ are constants.\n",
    "\n",
    "$$ \\frac{\\partial B_r}{\\partial t} = -\\alpha  \\frac{\\partial B_\\phi}{\\partial z} + \\frac{\\partial^2 B_r}{\\partial z^2} $$\n",
    "\n",
    "$$ \\frac{\\partial B_\\phi}{\\partial t} = DS B_r + \\frac{\\partial^2 B_\\phi}{\\partial z^2} $$\n",
    "\n",
    "<!-- ## Trial 1: Finite Difference Method\n",
    "\n",
    "In this case we can take:\n",
    "\n",
    "$$\\frac{\\partial U}{\\partial x} = \\frac{U_{n} - U_{n-1}}{\\Delta x}$$\n",
    "$$\\frac{\\partial^2 U}{\\partial x^2} = \\frac{U_{n+1} - 2U_{n} + U_{n-1}}{\\Delta x^2}$$\n",
    "\n",
    "Thus the equations become (taking $B_r$ as $U$ and $B_\\phi$ as $V$, and let i be the spatial index and j be the time index):\n",
    "\n",
    "$$ \\frac{U_{i,j} - U_{i,j-1}}{\\Delta t} = -\\alpha \\frac{V_{i,j-1} - V_{i-1,j-1}}{\\Delta z} + \\frac{U_{i+1,j-1} - 2U_{i,j-1} + U_{i-1,j-1}}{\\Delta z^2} $$\n",
    "$$ \\frac{V_{i,j} - V_{i,j-1}}{\\Delta t} = DS U_{i,j-1} + \\frac{V_{i+1,j-1} - 2V_{i,j-1} + V_{i-1,j-1}}{\\Delta z^2} $$\n",
    "\n",
    "keeping all the $j$ terms on the left side and all the $j-1$ terms on the right side:\n",
    "\n",
    "$$ U_{i,j} = U_{i,j-1} - \\frac{\\alpha \\Delta t}{\\Delta z} (V_{i,j-1} - V_{i-1,j-1}) + \\frac{\\Delta t}{\\Delta z^2} (U_{i+1,j-1} - 2U_{i,j-1} + U_{i-1,j-1}) $$\n",
    "$$ V_{i,j} = V_{i,j-1} DS \\Delta t U_{i,j-1} + \\frac{\\Delta t}{\\Delta z^2} (V_{i+1,j-1} - 2V_{i,j-1} + V_{i-1,j-1}) $$ -->\n",
    "\n",
    "## Crank Nicolson Method:\n",
    "\n",
    "In this case we can take:\n",
    "\n",
    "$$\\frac{\\partial U}{\\partial x} = \\frac{U_{i, j-1} - U_{i-1, j-1}}{\\Delta x}$$\n",
    "$$\\frac{\\partial^2 U}{\\partial x^2} = \\frac{1}{2\\Delta x^2} \\left[ (U_{i-1, j-1} + U_{i+1, j-1} - 2U_{i, j-1}) + (U_{i-1, j} + U_{i+1, j} - 2U_{i, j}) \\right]$$\n",
    "\n",
    "In the double difference term, we take the average of the two time steps.\n",
    "\n",
    "Thus putting these in the equations:\n",
    "\n",
    "$$ \\frac{U_{i,j} - U_{i,j-1}}{\\Delta t} = -\\alpha \\frac{V_{i,j-1} - V_{i-1,j-1}}{\\Delta z} + \\frac{1}{2\\Delta z^2} \\left[ (U_{i-1,j-1} + U_{i+1,j-1} - 2U_{i,j-1}) + (U_{i-1,j} + U_{i+1,j} - 2U_{i,j}) \\right] $$\n",
    "\n",
    "$$ \\frac{V_{i,j} - V_{i,j-1}}{\\Delta t} = DS U_{i,j} + \\frac{1}{2\\Delta z^2} \\left[ (V_{i-1,j-1} + V_{i+1,j-1} - 2V_{i,j-1}) + (V_{i-1,j} + V_{i+1,j} - 2V_{i,j}) \\right] $$\n",
    "\n",
    "Now, keeping all the $j$ terms on the left side and all the $j-1$ terms on the right side:\n",
    "\n",
    "$$ U_{i,j} (\\frac{1}{\\Delta t} + \\frac{1}{2\\Delta z^2}) - (U_{i-1,j} + U_{i+1,j}) \\frac{1}{2\\Delta z^2} = U_{i,j-1} (\\frac{1}{\\Delta t} - \\frac{1}{\\Delta z^2}) - \\alpha \\frac{V_{i,j-1} - V_{i-1,j-1}}{\\Delta z} + \\frac{1}{2\\Delta z^2} (U_{i-1,j-1} + U_{i+1,j-1})$$\n",
    "\n",
    "--- (1)\n",
    "\n",
    "$$ V_{i,j} (\\frac{1}{\\Delta t} + \\frac{1}{2\\Delta z^2}) - (V_{i-1,j} + V_{i+1,j}) \\frac{1}{2\\Delta z^2} = V_{i,j-1} (\\frac{1}{\\Delta t} - \\frac{1}{\\Delta z^2}) + DS U_{i,j} + \\frac{1}{2\\Delta z^2} (V_{i-1,j-1} + V_{i+1,j-1})$$\n",
    "\n",
    "--- (2)\n",
    "\n",
    "Here to find $U_{i, j}$ we need all the values of $U$ and $V$ at time step $j-1$ (which is not a problem) along with $U_{i-1, j}$ and $V_{i-1, j}$ at time step $j$ (which is a problem). We don't have these values yet. Thus we need to construct a set of linear equations to solve this problem. Similar thing is applied to $V$ too.\n",
    "\n",
    "Now, let us say $a = (\\frac{1}{\\Delta t} - \\frac{1}{2\\Delta z^2})$, $b = \\frac{1}{2\\Delta z^2}$ and $c_i = U_{i,j-1} (\\frac{1}{\\Delta t} - \\frac{1}{\\Delta z^2}) - \\alpha \\frac{V_{i,j-1} - V_{i-1,j-1}}{\\Delta z} + \\frac{1}{2\\Delta z^2} (U_{i-1,j-1} + U_{i+1,j-1})$ the whole left side of equation 1 (which is known). Thus we can make a matrix linear equation like $Ax=B$ where we need to get $X$ as the solution. And A and B are of the form:\n",
    "\n",
    "$$ A = \\begin{bmatrix}\n",
    " a & -b &  0 &  0 & 0 \\\\\n",
    "-b &  a & -b &  0 & 0 \\\\\n",
    " 0 & -b &  a & -b & 0 \\\\\n",
    " 0 &  0 & -b &  a & -b \\\\\n",
    " 0 &  0 &  0 & -b &  a \\\\\n",
    "\\end{bmatrix} $$\n",
    "\n",
    "$$ B = \\begin{bmatrix}\n",
    "c_1 \\\\\n",
    "c_2 \\\\\n",
    "c_3 \\\\\n",
    "c_4 \\\\\n",
    "c_5 \\\\\n",
    "\\end{bmatrix} $$\n",
    "\n",
    "Thus for every time step we need to solve this matrix equation to get the values of $U$ and $V$ at that time step.\n",
    "\n",
    "**I haven't shown the matrix for calculating $V$ but that will be similar, only the formula for $c_i$ would change**"
   ]
  },
  {
   "cell_type": "code",
   "execution_count": null,
   "metadata": {},
   "outputs": [],
   "source": [
    "def solve(U, V, dt, dx, alpha, D, S=1, eta = 1, verbose = True):\n",
    "    assert U.shape == V.shape, \"U and V must have the same shape/resolution\"\n",
    "    U = copy(U)  # copy to avoid changing the original\n",
    "    V = copy(V)  # copy to avoid changing the original\n",
    "    if verbose: print(f\"U shape: {U.shape}, V shape: {V.shape}\")\n",
    "    a = 1/dt + eta/(dx**2)\n",
    "    b = eta/(2*dx**2)\n",
    "    if verbose: print(f\"a: {a}, b: {b}\")\n",
    "\n",
    "    A = np.zeros((U.shape[1]-2, U.shape[1]-2))\n",
    "    for row in range(A.shape[0]):\n",
    "        A[row, row] = a\n",
    "        if row > 0:\n",
    "            A[row, row-1] = -b\n",
    "        if row < A.shape[0]-1:\n",
    "            A[row, row+1] = -b\n",
    "\n",
    "    A_inv = np.linalg.inv(A)\n",
    "\n",
    "    if verbose: ra = trange\n",
    "    else: ra = range\n",
    "\n",
    "    for j in ra(1, U.shape[0]):  # for all the time steps\n",
    "        # make B for U\n",
    "        BU = np.zeros(U.shape[1]-2)\n",
    "        # BU = U_{i,j-1} (\\frac{1}{\\Delta t} - \\frac{1}{\\Delta z^2}) - \\alpha \\frac{V_{i,j-1} - V_{i-1,j-1}}{\\Delta z} + \\frac{1}{2\\Delta z^2} (U_{i-1,j-1} + U_{i+1,j-1})\n",
    "        for i in range(1, U.shape[1]-1):\n",
    "            BU[i-1] = U[j-1, i]*(1/dt - eta/dx**2) - alpha*(V[j-1, i] - V[j-1, i-1])/dx + b*(U[j-1, i-1] + U[j-1, i+1])\n",
    "        # solve for U\n",
    "        U[j, 1:-1] = A_inv @ BU\n",
    "\n",
    "        BV = np.zeros(V.shape[1]-2)\n",
    "        # BV = V_{i,j-1} (\\frac{1}{\\Delta t} - \\frac{1}{\\Delta z^2}) + DS U_{i,j} + \\frac{1}{2\\Delta z^2} (V_{i-1,j-1} + V_{i+1,j-1})\n",
    "        for i in range(1, V.shape[1]-1):\n",
    "            BV[i-1] = V[j-1, i]*(1/dt - eta/dx**2) + D*S*U[j, i] + b*(V[j-1, i-1] + V[j-1, i+1])\n",
    "        # solve for V\n",
    "        V[j, 1:-1] = A_inv @ BV.T\n",
    "    \n",
    "    return U, V"
   ]
  },
  {
   "cell_type": "markdown",
   "metadata": {},
   "source": [
    "## Repeat the investigation you had done for task 1, with the new equations, for different values of the dynamo number."
   ]
  },
  {
   "cell_type": "code",
   "execution_count": null,
   "metadata": {},
   "outputs": [],
   "source": [
    "# Defining Grid and Initial Conditions\n",
    "T = 4000\n",
    "dT = 10\n",
    "NT = int(T/dT)\n",
    "L = 100\n",
    "dL = 1\n",
    "NL = int(L/dL)\n",
    "U = np.zeros((NT, NL))  # Initialize U matrix\n",
    "V = np.zeros((NT, NL))  # Initialize V matrix\n",
    "alpha = 0.01\n",
    "\n",
    "U[0, :] = np.sin(np.linspace(0, 2*np.pi, NL))  # Set the first row of U to sin(x)\n",
    "V[0, :] = np.cos(np.linspace(0, 4*np.pi, NL) + np.pi/2)\n",
    "\n",
    "U, V = solve(U, V, dT, dL, alpha, D=1e-1)\n",
    "make_gif(np.linspace(0, L, NL), np.array([U, V]), \"growing_dynamo.gif\", labels=[\"$B_r$\", \"$B_\\phi$\"], skip_frame=4, till=None, fps=25)"
   ]
  },
  {
   "cell_type": "markdown",
   "metadata": {},
   "source": [
    "We can see that for Dynamo number $D = 0.1$ we get a growing dynamo. The gif is shown below:\n",
    "\n",
    "![growing_dynamo.gif](outputs/asgt2/growing_dynamo.gif)"
   ]
  },
  {
   "cell_type": "code",
   "execution_count": null,
   "metadata": {},
   "outputs": [],
   "source": [
    "# Defining Grid and Initial Conditions\n",
    "T = 4000\n",
    "dT = 10\n",
    "NT = int(T/dT)\n",
    "L = 100\n",
    "dL = 1\n",
    "NL = int(L/dL)\n",
    "U = np.zeros((NT, NL))  # Initialize U matrix\n",
    "V = np.zeros((NT, NL))  # Initialize V matrix\n",
    "alpha = 0.01\n",
    "\n",
    "U[0, :] = np.sin(np.linspace(0, 2*np.pi, NL))  # Set the first row of U to sin(x)\n",
    "V[0, :] = np.cos(np.linspace(0, 4*np.pi, NL) + np.pi/2)\n",
    "\n",
    "U, V = solve(U, V, dT, dL, alpha, D=1e-2)\n",
    "make_gif(np.linspace(0, L, NL), np.array([U, V]), \"decaying_dynamo.gif\", labels=[\"$B_r$\", \"$B_\\phi$\"], skip_frame=4, till=None, fps=25)"
   ]
  },
  {
   "cell_type": "markdown",
   "metadata": {},
   "source": [
    "We can see that for Dynamo number $D = 0.01$ we get a decaying dynamo. The gif is shown below:\n",
    "\n",
    "![decaying_dynamo.gif](outputs/asgt2/decaying_dynamo.gif)"
   ]
  },
  {
   "cell_type": "markdown",
   "metadata": {},
   "source": [
    "## Finding $D_c$"
   ]
  },
  {
   "cell_type": "markdown",
   "metadata": {},
   "source": [
    "We know that at $D > D_c$ the dynamo grows exponentially and at $D < D_c$ the dynamo decays exponentially. Thus we need to define the notion of growth and decay. Let me define the growth and decay as follows:"
   ]
  },
  {
   "cell_type": "code",
   "execution_count": null,
   "metadata": {},
   "outputs": [],
   "source": [
    "def metric(mat):\n",
    "    return np.mean(np.sum(np.abs(mat), axis=1))\n",
    "\n",
    "def growth_rate(U, V):\n",
    "    U0, V0 = U[0:1, :], V[0:1, :]\n",
    "    return (metric(U) + metric(V))/ (metric(U0) + metric(V0))"
   ]
  },
  {
   "cell_type": "markdown",
   "metadata": {},
   "source": [
    "We could have used advanced techniques like **gradient descent** to find the value of $D_c$ but I am going to use a simple technique. I am going to plot the values of `growth_rate` for a range of $D$ values and find the value of $D$ where the `growth_rate` is 1. This is the value of $D_c$.\n",
    "\n",
    "We have seen that for $D = 0.1$ the dynamo grows and for $D = 0.01$ the dynamo decays. Thus the value of $D_c$ should be between 0.01 and 0.1. Thus I am going to take a range of $D$ values from 0.01 to 0.1 and find the value of $D$ where the `growth_rate` is 1."
   ]
  },
  {
   "cell_type": "code",
   "execution_count": null,
   "metadata": {},
   "outputs": [],
   "source": [
    "T = 6000  # this I have to keep high\n",
    "dT = 100\n",
    "NT = int(T/dT)\n",
    "L = 100\n",
    "dL = 1\n",
    "NL = int(L/dL)\n",
    "U = np.zeros((NT, NL))\n",
    "V = np.zeros((NT, NL))\n",
    "alpha = 0.01\n",
    "U[0, :] = np.sin(np.linspace(0, 2*np.pi, NL))  # Set the first row of U to sin(x)\n",
    "V[0, :] = np.cos(np.linspace(0, 4*np.pi, NL) + np.pi/2)\n",
    "\n",
    "Dlow = 0.01\n",
    "Dhigh = 0.05  # 1e-1\n",
    "Ds = np.linspace(Dlow, Dhigh, 1000)\n",
    "rates = []\n",
    "\n",
    "for D in tqdm(Ds):\n",
    "    U, V = solve(U, V, dT, dL, alpha, D=D, verbose=False)\n",
    "    \n",
    "    rate = growth_rate(U, V)\n",
    "    rates.append(rate)\n",
    "rates = np.array(rates)"
   ]
  },
  {
   "cell_type": "code",
   "execution_count": null,
   "metadata": {},
   "outputs": [],
   "source": [
    "Dc = Ds[(rates < 1).sum()]\n",
    "plt.plot(Ds, rates, label=\"Growth Rate\")\n",
    "plt.grid()\n",
    "plt.axvline(Dc, color='r', linestyle='--', label=f\"$D_c = {Dc:.4f}$\")\n",
    "plt.axhline(1, color='g', linestyle='--', label=f\"growth rate = 1\")\n",
    "plt.xlabel(\"D\")\n",
    "plt.ylabel(\"Growth Rate\")\n",
    "plt.legend()\n",
    "plt.title(\"Growth Rate vs Diffusion Constant\")\n",
    "plt.text(Dc, 1, f\"$D_c = {Dc:.4f}$\", fontsize=12, color='k', ha='left', va='top')\n",
    "plt.savefig(\"outputs/asgt2/find_Dc.png\")"
   ]
  },
  {
   "cell_type": "markdown",
   "metadata": {},
   "source": [
    "![find_Dc.png](outputs/asgt2/find_Dc.png)"
   ]
  },
  {
   "cell_type": "markdown",
   "metadata": {},
   "source": [
    "Simulation of the dynamo at $D = D_c$"
   ]
  },
  {
   "cell_type": "code",
   "execution_count": null,
   "metadata": {},
   "outputs": [],
   "source": [
    "T = 12000\n",
    "dT = 100\n",
    "NT = int(T/dT)\n",
    "L = 100\n",
    "dL = 1\n",
    "NL = int(L/dL)\n",
    "U = np.zeros((NT, NL))\n",
    "V = np.zeros((NT, NL))\n",
    "alpha = 0.01\n",
    "\n",
    "U[0, :] = np.sin(np.linspace(0, 2*np.pi, NL))  # Set the first row of U to sin(x)\n",
    "V[0, :] = np.cos(np.linspace(0, 4*np.pi, NL) + np.pi/2)\n",
    "\n",
    "U, V = solve(U, V, dT, dL, alpha, D=Dc+0.01)\n",
    "make_gif(np.linspace(0, L, NL), np.array([U, V]), \"stable_dynamo.gif\", labels=[\"$B_r$\", \"$B_\\phi$\"], skip_frame=2, till=None, fps=25)"
   ]
  },
  {
   "cell_type": "markdown",
   "metadata": {},
   "source": [
    "![stable_dynamo.gif](outputs/asgt2/stable_dynamo.gif)"
   ]
  },
  {
   "cell_type": "markdown",
   "metadata": {},
   "source": [
    "**Note:** Although the calculated value of the $D_c$ is stable, it fluctuates a lot in our experiment because we chose large values of $\\Delta t$ and $\\Delta z$ to make the simulation faster. Thus the value of $D_c$ is not stable in our experiment. It converges to the correct value as we decrease the values of $\\Delta t$ and $\\Delta z$ but the simulation becomes slower. $D_c$ also tends to depend slightly on the value of total time of the simulation, and converges to as the total simulation time grows to infinity (which is practically not possible)."
   ]
  }
 ],
 "metadata": {
  "kernelspec": {
   "display_name": ".plasma",
   "language": "python",
   "name": "python3"
  },
  "language_info": {
   "codemirror_mode": {
    "name": "ipython",
    "version": 3
   },
   "file_extension": ".py",
   "mimetype": "text/x-python",
   "name": "python",
   "nbconvert_exporter": "python",
   "pygments_lexer": "ipython3",
   "version": "3.10.12"
  }
 },
 "nbformat": 4,
 "nbformat_minor": 2
}
